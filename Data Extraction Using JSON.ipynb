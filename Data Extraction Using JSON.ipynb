{
 "cells": [
  {
   "cell_type": "markdown",
   "metadata": {},
   "source": [
    "### Montgomery County Traffic Violations Exercise\n",
    "From the data.gov website, download the JSON file with traffic violations in Montgomery County, Maryland . If you need more descriptive information regarding the features in this dataset, check out the \"Columns in this Dataset\" section of the Montgomery County Open Data Portal for this data: https://data.montgomerycountymd.gov/Public-Safety/Traffic-Violations/4mse-ku6q \n",
    "\n",
    "Extract the data for the following features and make it into a dataframe (HINT: The final data that you need to extract is located in a list. You need to get the data by its index position number in the list. Next to each feature is its index position number for your guidance.):\n",
    "\n",
    "Date of Stop [9]\n",
    "Time of Stop [10]\n",
    "Agency [11]\n",
    "Subagency [12]\n",
    "Description [13]\n",
    "Location [14]\n",
    "Latitude [15]\n",
    "Longitude [16]\n",
    "Vehicle Type [28]\n",
    "Vehicle Year [29]\n",
    "Vehicle Make [30]\n",
    "Vehicle Model [31]\n",
    "Vehicle Color [32]\n",
    "Violation Type [33]\n",
    "Race [37]\n",
    "Gender [38]\n",
    "Driver's State [40]\n",
    "Driver's License State [41]\n",
    "Arrest Type [42]"
   ]
  },
  {
   "cell_type": "code",
   "execution_count": 1,
   "metadata": {},
   "outputs": [],
   "source": [
    "import pandas as pd\n",
    "import json"
   ]
  },
  {
   "cell_type": "code",
   "execution_count": 3,
   "metadata": {},
   "outputs": [],
   "source": [
    "with open('datasets/MoCoViolations_2018.json') as file:\n",
    "    data = json.load(file)"
   ]
  },
  {
   "cell_type": "code",
   "execution_count": 4,
   "metadata": {},
   "outputs": [
    {
     "data": {
      "text/plain": [
       "dict"
      ]
     },
     "execution_count": 4,
     "metadata": {},
     "output_type": "execute_result"
    }
   ],
   "source": [
    "type(data)"
   ]
  },
  {
   "cell_type": "code",
   "execution_count": 5,
   "metadata": {},
   "outputs": [
    {
     "data": {
      "text/plain": [
       "dict_keys(['meta', 'data'])"
      ]
     },
     "execution_count": 5,
     "metadata": {},
     "output_type": "execute_result"
    }
   ],
   "source": [
    "data.keys()"
   ]
  },
  {
   "cell_type": "code",
   "execution_count": 10,
   "metadata": {},
   "outputs": [
    {
     "data": {
      "text/plain": [
       "list"
      ]
     },
     "execution_count": 10,
     "metadata": {},
     "output_type": "execute_result"
    }
   ],
   "source": [
    "type(data['data'])"
   ]
  },
  {
   "cell_type": "code",
   "execution_count": 11,
   "metadata": {},
   "outputs": [
    {
     "data": {
      "text/plain": [
       "218273"
      ]
     },
     "execution_count": 11,
     "metadata": {},
     "output_type": "execute_result"
    }
   ],
   "source": [
    "len(data['data'])"
   ]
  },
  {
   "cell_type": "code",
   "execution_count": 24,
   "metadata": {},
   "outputs": [],
   "source": [
    "violation = data['data'][0]"
   ]
  },
  {
   "cell_type": "code",
   "execution_count": 26,
   "metadata": {},
   "outputs": [
    {
     "data": {
      "text/plain": [
       "'2018-12-31T00:00:00'"
      ]
     },
     "execution_count": 26,
     "metadata": {},
     "output_type": "execute_result"
    }
   ],
   "source": [
    "violation[9]"
   ]
  },
  {
   "cell_type": "code",
   "execution_count": 27,
   "metadata": {},
   "outputs": [],
   "source": [
    "violations_dict = {'date':[], 'time':[], 'agency':[], 'subagency':[], 'description':[], 'location':[], 'latitude':[], 'longitude':[], 'vehicle type':[], 'vehicle make':[], 'vehicle model':[], 'vehicle color':[], 'violation type':[], 'race':[], 'gender':[], 'driver state':[], 'driver license state':[], 'arrest type':[]}"
   ]
  },
  {
   "cell_type": "code",
   "execution_count": 28,
   "metadata": {},
   "outputs": [],
   "source": [
    "for v in violation:\n",
    "    violations_dict['date'].append(violation[9])\n",
    "    violations_dict['time'].append(violation[10])\n",
    "    violations_dict['agency'].append(violation[11])\n",
    "    violations_dict['subagency'].append(violation[12])\n",
    "    violations_dict['description'].append(violation[13])\n",
    "    violations_dict['location'].append(violation[14])\n",
    "    violations_dict['latitude'].append(violation[15])\n",
    "    violations_dict['longitude'].append(violation[16])\n",
    "    violations_dict['vehicle type'].append(violation[28])\n",
    "    violations_dict['vehicle make'].append(violation[30])\n",
    "    violations_dict['vehicle model'].append(violation[31])\n",
    "    violations_dict['vehicle color'].append(violation[32])\n",
    "    violations_dict['violation type'].append(violation[33])\n",
    "    violations_dict['race'].append(violation[37])\n",
    "    violations_dict['gender'].append(violation[38])\n",
    "    violations_dict['driver state'].append(violation[40])\n",
    "    violations_dict['driver license state'].append(violation[41])\n",
    "    violations_dict['arrest type'].append(violation[42])"
   ]
  },
  {
   "cell_type": "code",
   "execution_count": 29,
   "metadata": {},
   "outputs": [],
   "source": [
    "df = pd.DataFrame(violations_dict)"
   ]
  },
  {
   "cell_type": "code",
   "execution_count": 30,
   "metadata": {},
   "outputs": [
    {
     "data": {
      "text/html": [
       "<div>\n",
       "<style scoped>\n",
       "    .dataframe tbody tr th:only-of-type {\n",
       "        vertical-align: middle;\n",
       "    }\n",
       "\n",
       "    .dataframe tbody tr th {\n",
       "        vertical-align: top;\n",
       "    }\n",
       "\n",
       "    .dataframe thead th {\n",
       "        text-align: right;\n",
       "    }\n",
       "</style>\n",
       "<table border=\"1\" class=\"dataframe\">\n",
       "  <thead>\n",
       "    <tr style=\"text-align: right;\">\n",
       "      <th></th>\n",
       "      <th>date</th>\n",
       "      <th>time</th>\n",
       "      <th>agency</th>\n",
       "      <th>subagency</th>\n",
       "      <th>description</th>\n",
       "      <th>location</th>\n",
       "      <th>latitude</th>\n",
       "      <th>longitude</th>\n",
       "      <th>vehicle type</th>\n",
       "      <th>vehicle make</th>\n",
       "      <th>vehicle model</th>\n",
       "      <th>vehicle color</th>\n",
       "      <th>violation type</th>\n",
       "      <th>race</th>\n",
       "      <th>gender</th>\n",
       "      <th>driver state</th>\n",
       "      <th>driver license state</th>\n",
       "      <th>arrest type</th>\n",
       "    </tr>\n",
       "  </thead>\n",
       "  <tbody>\n",
       "    <tr>\n",
       "      <th>0</th>\n",
       "      <td>2018-12-31T00:00:00</td>\n",
       "      <td>23:56:00</td>\n",
       "      <td>MCP</td>\n",
       "      <td>1st District, Rockville</td>\n",
       "      <td>FAILURE OF VEH. ON HWY. TO DISPLAY LIGHTED LAM...</td>\n",
       "      <td>355 @ FIRST ST</td>\n",
       "      <td>39.07792</td>\n",
       "      <td>-77.1404116666667</td>\n",
       "      <td>02 - Automobile</td>\n",
       "      <td>TOYOTA</td>\n",
       "      <td>COROLLA</td>\n",
       "      <td>BLUE</td>\n",
       "      <td>Warning</td>\n",
       "      <td>BLACK</td>\n",
       "      <td>M</td>\n",
       "      <td>MD</td>\n",
       "      <td>MD</td>\n",
       "      <td>A - Marked Patrol</td>\n",
       "    </tr>\n",
       "    <tr>\n",
       "      <th>1</th>\n",
       "      <td>2018-12-31T00:00:00</td>\n",
       "      <td>23:56:00</td>\n",
       "      <td>MCP</td>\n",
       "      <td>1st District, Rockville</td>\n",
       "      <td>FAILURE OF VEH. ON HWY. TO DISPLAY LIGHTED LAM...</td>\n",
       "      <td>355 @ FIRST ST</td>\n",
       "      <td>39.07792</td>\n",
       "      <td>-77.1404116666667</td>\n",
       "      <td>02 - Automobile</td>\n",
       "      <td>TOYOTA</td>\n",
       "      <td>COROLLA</td>\n",
       "      <td>BLUE</td>\n",
       "      <td>Warning</td>\n",
       "      <td>BLACK</td>\n",
       "      <td>M</td>\n",
       "      <td>MD</td>\n",
       "      <td>MD</td>\n",
       "      <td>A - Marked Patrol</td>\n",
       "    </tr>\n",
       "    <tr>\n",
       "      <th>2</th>\n",
       "      <td>2018-12-31T00:00:00</td>\n",
       "      <td>23:56:00</td>\n",
       "      <td>MCP</td>\n",
       "      <td>1st District, Rockville</td>\n",
       "      <td>FAILURE OF VEH. ON HWY. TO DISPLAY LIGHTED LAM...</td>\n",
       "      <td>355 @ FIRST ST</td>\n",
       "      <td>39.07792</td>\n",
       "      <td>-77.1404116666667</td>\n",
       "      <td>02 - Automobile</td>\n",
       "      <td>TOYOTA</td>\n",
       "      <td>COROLLA</td>\n",
       "      <td>BLUE</td>\n",
       "      <td>Warning</td>\n",
       "      <td>BLACK</td>\n",
       "      <td>M</td>\n",
       "      <td>MD</td>\n",
       "      <td>MD</td>\n",
       "      <td>A - Marked Patrol</td>\n",
       "    </tr>\n",
       "    <tr>\n",
       "      <th>3</th>\n",
       "      <td>2018-12-31T00:00:00</td>\n",
       "      <td>23:56:00</td>\n",
       "      <td>MCP</td>\n",
       "      <td>1st District, Rockville</td>\n",
       "      <td>FAILURE OF VEH. ON HWY. TO DISPLAY LIGHTED LAM...</td>\n",
       "      <td>355 @ FIRST ST</td>\n",
       "      <td>39.07792</td>\n",
       "      <td>-77.1404116666667</td>\n",
       "      <td>02 - Automobile</td>\n",
       "      <td>TOYOTA</td>\n",
       "      <td>COROLLA</td>\n",
       "      <td>BLUE</td>\n",
       "      <td>Warning</td>\n",
       "      <td>BLACK</td>\n",
       "      <td>M</td>\n",
       "      <td>MD</td>\n",
       "      <td>MD</td>\n",
       "      <td>A - Marked Patrol</td>\n",
       "    </tr>\n",
       "    <tr>\n",
       "      <th>4</th>\n",
       "      <td>2018-12-31T00:00:00</td>\n",
       "      <td>23:56:00</td>\n",
       "      <td>MCP</td>\n",
       "      <td>1st District, Rockville</td>\n",
       "      <td>FAILURE OF VEH. ON HWY. TO DISPLAY LIGHTED LAM...</td>\n",
       "      <td>355 @ FIRST ST</td>\n",
       "      <td>39.07792</td>\n",
       "      <td>-77.1404116666667</td>\n",
       "      <td>02 - Automobile</td>\n",
       "      <td>TOYOTA</td>\n",
       "      <td>COROLLA</td>\n",
       "      <td>BLUE</td>\n",
       "      <td>Warning</td>\n",
       "      <td>BLACK</td>\n",
       "      <td>M</td>\n",
       "      <td>MD</td>\n",
       "      <td>MD</td>\n",
       "      <td>A - Marked Patrol</td>\n",
       "    </tr>\n",
       "  </tbody>\n",
       "</table>\n",
       "</div>"
      ],
      "text/plain": [
       "                  date      time agency                subagency  \\\n",
       "0  2018-12-31T00:00:00  23:56:00    MCP  1st District, Rockville   \n",
       "1  2018-12-31T00:00:00  23:56:00    MCP  1st District, Rockville   \n",
       "2  2018-12-31T00:00:00  23:56:00    MCP  1st District, Rockville   \n",
       "3  2018-12-31T00:00:00  23:56:00    MCP  1st District, Rockville   \n",
       "4  2018-12-31T00:00:00  23:56:00    MCP  1st District, Rockville   \n",
       "\n",
       "                                         description        location  \\\n",
       "0  FAILURE OF VEH. ON HWY. TO DISPLAY LIGHTED LAM...  355 @ FIRST ST   \n",
       "1  FAILURE OF VEH. ON HWY. TO DISPLAY LIGHTED LAM...  355 @ FIRST ST   \n",
       "2  FAILURE OF VEH. ON HWY. TO DISPLAY LIGHTED LAM...  355 @ FIRST ST   \n",
       "3  FAILURE OF VEH. ON HWY. TO DISPLAY LIGHTED LAM...  355 @ FIRST ST   \n",
       "4  FAILURE OF VEH. ON HWY. TO DISPLAY LIGHTED LAM...  355 @ FIRST ST   \n",
       "\n",
       "   latitude          longitude     vehicle type vehicle make vehicle model  \\\n",
       "0  39.07792  -77.1404116666667  02 - Automobile       TOYOTA       COROLLA   \n",
       "1  39.07792  -77.1404116666667  02 - Automobile       TOYOTA       COROLLA   \n",
       "2  39.07792  -77.1404116666667  02 - Automobile       TOYOTA       COROLLA   \n",
       "3  39.07792  -77.1404116666667  02 - Automobile       TOYOTA       COROLLA   \n",
       "4  39.07792  -77.1404116666667  02 - Automobile       TOYOTA       COROLLA   \n",
       "\n",
       "  vehicle color violation type   race gender driver state  \\\n",
       "0          BLUE        Warning  BLACK      M           MD   \n",
       "1          BLUE        Warning  BLACK      M           MD   \n",
       "2          BLUE        Warning  BLACK      M           MD   \n",
       "3          BLUE        Warning  BLACK      M           MD   \n",
       "4          BLUE        Warning  BLACK      M           MD   \n",
       "\n",
       "  driver license state        arrest type  \n",
       "0                   MD  A - Marked Patrol  \n",
       "1                   MD  A - Marked Patrol  \n",
       "2                   MD  A - Marked Patrol  \n",
       "3                   MD  A - Marked Patrol  \n",
       "4                   MD  A - Marked Patrol  "
      ]
     },
     "execution_count": 30,
     "metadata": {},
     "output_type": "execute_result"
    }
   ],
   "source": [
    "df.head()"
   ]
  },
  {
   "cell_type": "code",
   "execution_count": null,
   "metadata": {},
   "outputs": [],
   "source": []
  }
 ],
 "metadata": {
  "kernelspec": {
   "display_name": "Python 3",
   "language": "python",
   "name": "python3"
  },
  "language_info": {
   "codemirror_mode": {
    "name": "ipython",
    "version": 3
   },
   "file_extension": ".py",
   "mimetype": "text/x-python",
   "name": "python",
   "nbconvert_exporter": "python",
   "pygments_lexer": "ipython3",
   "version": "3.7.3"
  }
 },
 "nbformat": 4,
 "nbformat_minor": 2
}
