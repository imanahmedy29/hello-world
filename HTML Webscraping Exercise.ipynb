{
 "cells": [
  {
   "cell_type": "markdown",
   "metadata": {},
   "source": [
    "# Counties in Maryland\n",
    "\n",
    "From Wikipedia, use web scraping to gather the information from the table of the list of counties in Maryland \n",
    "\n",
    "The information to include in your final dataframe is:\n",
    "\n",
    "- County Name\n",
    "- FIPS Code\n",
    "- County Seat\n",
    "- Established (year)\n",
    "- Origin\n",
    "- Etymology\n",
    "- Population\n",
    "- Area"
   ]
  },
  {
   "cell_type": "code",
   "execution_count": 1,
   "metadata": {},
   "outputs": [
    {
     "data": {
      "text/plain": [
       "200"
      ]
     },
     "execution_count": 1,
     "metadata": {},
     "output_type": "execute_result"
    }
   ],
   "source": [
    "import requests\n",
    "import pandas as pd\n",
    "URL = 'https://en.wikipedia.org/wiki/List_of_counties_in_Maryland#List_of_counties'\n",
    "page = requests.get(URL)\n",
    "page.status_code"
   ]
  },
  {
   "cell_type": "code",
   "execution_count": 2,
   "metadata": {},
   "outputs": [],
   "source": [
    "HTMLstr = page.text\n",
    "from bs4 import BeautifulSoup\n",
    "soup = BeautifulSoup(HTMLstr, 'lxml')"
   ]
  },
  {
   "cell_type": "code",
   "execution_count": 7,
   "metadata": {},
   "outputs": [],
   "source": [
    "right_table = soup.find('table', class_ = 'wikitable sortable')\n"
   ]
  },
  {
   "cell_type": "code",
   "execution_count": null,
   "metadata": {},
   "outputs": [],
   "source": [
    "#set empty lists to hold data of each column\n",
    "columnames = []\n",
    "A=[]\n",
    "B=[]\n",
    "C=[]\n",
    "D=[]\n",
    "E=[]\n",
    "F=[]\n",
    "G=[]\n",
    "H=[]\n",
    "I=[]\n",
    "J=[]\n",
    "\n",
    "#find all <tr> tags in the table and go through each one (row)\n",
    "for row in right_table.findAll(\"tr\"):\n",
    "    \n",
    "    Columnames = row.findAll('th')\n",
    "    \n",
    "    #if there are 11 <td> tags\n",
    "    if len(Columnames) == 1: \n",
    "        columnames.append(Columnames[0].find(text=True))\n",
    "        \n",
    "    cells = row.find_all('td')\n",
    "    if len(cells) == 10:\n",
    "        \n",
    "        A.append(cells[0].find(text=True)) #FIPSCode\n",
    "        B.append(cells[1].find(text=True)) #CountySeat\n",
    "        C.append(cells[2].find(text=True)) #YearEstablished\n",
    "        D.append(cells[3].find(text=True)) #Origin\n",
    "        E.append(cells[4].find(text=True)) #Etymology\n",
    "        H.append(cells[7].find(text=True)) #Population\n",
    "        I.append(cells[8].find(text=True)) #Area\n",
    "    "
   ]
  },
  {
   "cell_type": "code",
   "execution_count": 15,
   "metadata": {},
   "outputs": [
    {
     "data": {
      "text/html": [
       "<div>\n",
       "<style scoped>\n",
       "    .dataframe tbody tr th:only-of-type {\n",
       "        vertical-align: middle;\n",
       "    }\n",
       "\n",
       "    .dataframe tbody tr th {\n",
       "        vertical-align: top;\n",
       "    }\n",
       "\n",
       "    .dataframe thead th {\n",
       "        text-align: right;\n",
       "    }\n",
       "</style>\n",
       "<table border=\"1\" class=\"dataframe\">\n",
       "  <thead>\n",
       "    <tr style=\"text-align: right;\">\n",
       "      <th></th>\n",
       "      <th>County</th>\n",
       "      <th>FIPS Code</th>\n",
       "      <th>County Seat</th>\n",
       "      <th>Established</th>\n",
       "      <th>Origin</th>\n",
       "      <th>Etymology</th>\n",
       "      <th>Population</th>\n",
       "      <th>Area</th>\n",
       "    </tr>\n",
       "  </thead>\n",
       "  <tbody>\n",
       "    <tr>\n",
       "      <th>0</th>\n",
       "      <td>Allegany County</td>\n",
       "      <td>001</td>\n",
       "      <td>Cumberland</td>\n",
       "      <td>1789</td>\n",
       "      <td>Formed from part of Washington County.</td>\n",
       "      <td>From the Lenape Indian word</td>\n",
       "      <td>74,012</td>\n",
       "      <td>430</td>\n",
       "    </tr>\n",
       "    <tr>\n",
       "      <th>1</th>\n",
       "      <td>Anne Arundel County</td>\n",
       "      <td>003</td>\n",
       "      <td>Annapolis</td>\n",
       "      <td>1650</td>\n",
       "      <td>Formed from part of St. Mary's County.</td>\n",
       "      <td>Anne Arundell</td>\n",
       "      <td>550,488</td>\n",
       "      <td>588</td>\n",
       "    </tr>\n",
       "    <tr>\n",
       "      <th>2</th>\n",
       "      <td>Baltimore County</td>\n",
       "      <td>005</td>\n",
       "      <td>Towson</td>\n",
       "      <td>1659</td>\n",
       "      <td>Formed from unorganized territory</td>\n",
       "      <td>Cecil Calvert, 2nd Baron Baltimore</td>\n",
       "      <td>817,455</td>\n",
       "      <td>682</td>\n",
       "    </tr>\n",
       "    <tr>\n",
       "      <th>3</th>\n",
       "      <td>Baltimore City</td>\n",
       "      <td>510</td>\n",
       "      <td>Baltimore City</td>\n",
       "      <td>1851</td>\n",
       "      <td>Founded in 1729. Detached in 1851 from Baltimo...</td>\n",
       "      <td>Cecil Calvert, 2nd Baron Baltimore</td>\n",
       "      <td>621,342</td>\n",
       "      <td>92</td>\n",
       "    </tr>\n",
       "    <tr>\n",
       "      <th>4</th>\n",
       "      <td>Calvert County</td>\n",
       "      <td>009</td>\n",
       "      <td>Prince Frederick</td>\n",
       "      <td>1654</td>\n",
       "      <td>Formed as Patuxent County from unorganized ter...</td>\n",
       "      <td>The</td>\n",
       "      <td>89,628</td>\n",
       "      <td>345</td>\n",
       "    </tr>\n",
       "  </tbody>\n",
       "</table>\n",
       "</div>"
      ],
      "text/plain": [
       "                County FIPS Code       County Seat Established  \\\n",
       "0      Allegany County       001        Cumberland        1789   \n",
       "1  Anne Arundel County       003         Annapolis        1650   \n",
       "2     Baltimore County       005            Towson        1659   \n",
       "3       Baltimore City       510    Baltimore City        1851   \n",
       "4       Calvert County       009  Prince Frederick        1654   \n",
       "\n",
       "                                              Origin  \\\n",
       "0             Formed from part of Washington County.   \n",
       "1             Formed from part of St. Mary's County.   \n",
       "2                  Formed from unorganized territory   \n",
       "3  Founded in 1729. Detached in 1851 from Baltimo...   \n",
       "4  Formed as Patuxent County from unorganized ter...   \n",
       "\n",
       "                            Etymology Population Area  \n",
       "0        From the Lenape Indian word      74,012  430  \n",
       "1                       Anne Arundell    550,488  588  \n",
       "2  Cecil Calvert, 2nd Baron Baltimore    817,455  682  \n",
       "3  Cecil Calvert, 2nd Baron Baltimore    621,342   92  \n",
       "4                                The      89,628  345  "
      ]
     },
     "execution_count": 15,
     "metadata": {},
     "output_type": "execute_result"
    }
   ],
   "source": [
    "df=pd.DataFrame(columnames, columns=['County']) #turn list A into dataframe first\n",
    "\n",
    "#add other lists as new columns\n",
    "df['FIPS Code'] = A\n",
    "df['County Seat'] = B\n",
    "df['Established'] = C\n",
    "df['Origin'] = D\n",
    "df['Etymology'] = E\n",
    "#df['Flag'] = F\n",
    "#df['Seal'] = G\n",
    "df['Population'] = H\n",
    "df['Area'] = I\n",
    "#df['Map'] = J\n",
    "\n",
    "#show first 5 rows of created dataframe\n",
    "df.head()"
   ]
  },
  {
   "cell_type": "code",
   "execution_count": null,
   "metadata": {},
   "outputs": [],
   "source": []
  }
 ],
 "metadata": {
  "kernelspec": {
   "display_name": "Python 3",
   "language": "python",
   "name": "python3"
  },
  "language_info": {
   "codemirror_mode": {
    "name": "ipython",
    "version": 3
   },
   "file_extension": ".py",
   "mimetype": "text/x-python",
   "name": "python",
   "nbconvert_exporter": "python",
   "pygments_lexer": "ipython3",
   "version": "3.7.3"
  }
 },
 "nbformat": 4,
 "nbformat_minor": 2
}
