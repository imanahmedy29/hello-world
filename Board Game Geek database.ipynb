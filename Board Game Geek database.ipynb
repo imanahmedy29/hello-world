{
 "cells": [
  {
   "cell_type": "markdown",
   "metadata": {},
   "source": [
    "### Extracting data from sqlite file\n",
    "Download the Board Games SQLite database from Kaggle at https://www.kaggle.com/gabrio/board-games-dataset. Then in Jupyter Notebook, read in the data for each table. Use code to show the number of rows and columns for each table in the database. "
   ]
  },
  {
   "cell_type": "code",
   "execution_count": 46,
   "metadata": {},
   "outputs": [
    {
     "data": {
      "text/plain": [
       "['BoardGames',\n",
       " 'bgg.ldaOut.top.documents',\n",
       " 'bgg.ldaOut.top.terms',\n",
       " 'bgg.ldaOut.topics',\n",
       " 'bgg.topics']"
      ]
     },
     "execution_count": 46,
     "metadata": {},
     "output_type": "execute_result"
    }
   ],
   "source": [
    "import pandas as pd\n",
    "from sqlalchemy import create_engine, inspect\n",
    "file = r'board-games-dataset/database.sqlite'\n",
    "engine = create_engine(f\"sqlite:///{file}\")\n",
    "engine.table_names()"
   ]
  },
  {
   "cell_type": "code",
   "execution_count": 51,
   "metadata": {},
   "outputs": [
    {
     "data": {
      "text/plain": [
       "(90400, 81)"
      ]
     },
     "execution_count": 51,
     "metadata": {},
     "output_type": "execute_result"
    }
   ],
   "source": [
    "sql = \"Select * FROM 'BoardGames'\"\n",
    "BoardGames_df = pd.read_sql(sql, engine)\n",
    "BoardGames_df.shape"
   ]
  },
  {
   "cell_type": "code",
   "execution_count": 68,
   "metadata": {},
   "outputs": [],
   "source": [
    "def get_shape(selection, name):\n",
    "    Table_df = pd.read_sql(selection, engine)\n",
    "    Table_Columns =  Table_df.shape[1]\n",
    "    Table_Rows = Table_df.shape[0]\n",
    "    print('The table', name, 'has', Table_Columns, 'columns and', Table_Rows, 'rows.')"
   ]
  },
  {
   "cell_type": "code",
   "execution_count": 69,
   "metadata": {},
   "outputs": [],
   "source": [
    "sql_1 = 'SELECT * FROM BoardGames'\n",
    "sql_2 = \"SELECT * FROM 'bgg.ldaOut.top.documents'\"\n",
    "sql_3 = \"SELECT * FROM 'bgg.ldaOut.top.terms'\"\n",
    "sql_4 = \"SELECT * FROM 'bgg.ldaOut.topics'\"\n",
    "sql_5 = \"SELECT * FROM 'bgg.topics'\""
   ]
  },
  {
   "cell_type": "code",
   "execution_count": 72,
   "metadata": {},
   "outputs": [
    {
     "name": "stdout",
     "output_type": "stream",
     "text": [
      "The table BoardGames has 81 columns and 90400 rows.\n",
      "The table bgg.ldaOut.top.documents has 4 columns and 288 rows.\n",
      "The table bgg.ldaOut.top.terms has 4 columns and 250 rows.\n",
      "The table bgg.ldaOut.topics has 2 columns and 29229 rows.\n",
      "The table bgg.topics has 74 columns and 29313 rows.\n"
     ]
    }
   ],
   "source": [
    "List_selection = {sql_1:'BoardGames', sql_2:'bgg.ldaOut.top.documents', sql_3:'bgg.ldaOut.top.terms', sql_4:'bgg.ldaOut.topics', sql_5:'bgg.topics'}\n",
    "for selection, name in List_selection.items():\n",
    "    get_shape(selection, name)"
   ]
  }
 ],
 "metadata": {
  "kernelspec": {
   "display_name": "Python 3",
   "language": "python",
   "name": "python3"
  },
  "language_info": {
   "codemirror_mode": {
    "name": "ipython",
    "version": 3
   },
   "file_extension": ".py",
   "mimetype": "text/x-python",
   "name": "python",
   "nbconvert_exporter": "python",
   "pygments_lexer": "ipython3",
   "version": "3.7.3"
  }
 },
 "nbformat": 4,
 "nbformat_minor": 2
}
