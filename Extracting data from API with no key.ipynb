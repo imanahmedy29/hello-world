{
 "cells": [
  {
   "cell_type": "markdown",
   "metadata": {},
   "source": [
    "### NASA Earth Meteorite Landings\n",
    "\n",
    "Use the URL from NASA's Open Data Portal API (https://data.nasa.gov/Space-Science/Meteorite-Landings/gh4g-9sfh) to request data and bring it in as JSON. Then extract the following features from that data to create a dataframe(columns should be in the order listed below):\n",
    "\n",
    "- ID\n",
    "- Year\n",
    "- Fall\n",
    "- Name\n",
    "- Name Type\n",
    "- Mass\n",
    "- Latitude\n",
    "- Longitude\n",
    "\n",
    "Upload your Jupyter notebook to Github and submit its URL for this assignment.\n"
   ]
  },
  {
   "cell_type": "code",
   "execution_count": 33,
   "metadata": {},
   "outputs": [
    {
     "data": {
      "text/plain": [
       "<Response [200]>"
      ]
     },
     "execution_count": 33,
     "metadata": {},
     "output_type": "execute_result"
    }
   ],
   "source": [
    "import requests \n",
    "import json\n",
    "URL = r'https://data.nasa.gov/resource/gh4g-9sfh.json'\n",
    "resp = requests.get(URL)\n",
    "resp"
   ]
  },
  {
   "cell_type": "code",
   "execution_count": 34,
   "metadata": {},
   "outputs": [
    {
     "data": {
      "text/plain": [
       "{'name': 'Aachen',\n",
       " 'id': '1',\n",
       " 'nametype': 'Valid',\n",
       " 'recclass': 'L5',\n",
       " 'mass': '21',\n",
       " 'fall': 'Fell',\n",
       " 'year': '1880-01-01T00:00:00.000',\n",
       " 'reclat': '50.775000',\n",
       " 'reclong': '6.083330',\n",
       " 'geolocation': {'latitude': '50.775', 'longitude': '6.08333'}}"
      ]
     },
     "execution_count": 34,
     "metadata": {},
     "output_type": "execute_result"
    }
   ],
   "source": [
    "str_data = resp.text\n",
    "NASAdata = json.loads(str_data)\n",
    "NASAdata[0]"
   ]
  },
  {
   "cell_type": "code",
   "execution_count": 35,
   "metadata": {},
   "outputs": [
    {
     "data": {
      "text/plain": [
       "dict_keys(['name', 'id', 'nametype', 'recclass', 'mass', 'fall', 'year', 'reclat', 'reclong', 'geolocation'])"
      ]
     },
     "execution_count": 35,
     "metadata": {},
     "output_type": "execute_result"
    }
   ],
   "source": [
    "NASAdata[0].keys()"
   ]
  },
  {
   "cell_type": "code",
   "execution_count": 36,
   "metadata": {},
   "outputs": [
    {
     "data": {
      "text/plain": [
       "1000"
      ]
     },
     "execution_count": 36,
     "metadata": {},
     "output_type": "execute_result"
    }
   ],
   "source": [
    "len(NASAdata)"
   ]
  },
  {
   "cell_type": "code",
   "execution_count": 37,
   "metadata": {},
   "outputs": [],
   "source": [
    "ID = []\n",
    "Year = []\n",
    "Fall = []\n",
    "Name = []\n",
    "Name_Type = []\n",
    "Mass = []\n",
    "Latitude = []\n",
    "Longitude = []\n",
    "\n",
    "a=0\n",
    "b=0\n",
    "c=0\n",
    "d=0\n",
    "e=0\n",
    "f=0\n",
    "g=0\n",
    "x=0\n",
    "for i in range(0,1000):\n",
    "    try:\n",
    "        ID.append(NASAdata[i]['id'])\n",
    "    except:\n",
    "        a=a+1\n",
    "        ID.append('N/A')\n",
    "    try: \n",
    "        Year.append(NASAdata[i]['year'])\n",
    "    except:\n",
    "        b=b+1\n",
    "        Year.append('N/A')\n",
    "    try:\n",
    "        Fall.append(NASAdata[i]['fall'])\n",
    "    except:\n",
    "        c=c+1\n",
    "        Fall.append('N/A')\n",
    "    try:\n",
    "        Name.append(NASAdata[i]['name'])\n",
    "    except:\n",
    "        d=d+1\n",
    "        Name.append('N/A')\n",
    "    try:\n",
    "        Name_Type.append(NASAdata[i]['nametype'])\n",
    "    except:\n",
    "        e=e+1\n",
    "        Name_Type.append('N/A')\n",
    "    try:\n",
    "        Mass.append(NASAdata[i]['mass'])\n",
    "    except:\n",
    "        f=f+1\n",
    "        Mass.append('N/A')\n",
    "    try:\n",
    "        Latitude.append(NASAdata[i]['geolocation']['latitude'])\n",
    "    except:\n",
    "        g=g+1\n",
    "        Latitude.append('N/A')\n",
    "    try:\n",
    "        Longitude.append(NASAdata[i]['geolocation']['longitude']) \n",
    "    except:\n",
    "        x=x+1\n",
    "        Longitude.append('N/A')\n",
    "        \n"
   ]
  },
  {
   "cell_type": "code",
   "execution_count": 38,
   "metadata": {},
   "outputs": [
    {
     "name": "stdout",
     "output_type": "stream",
     "text": [
      "0 missing IDs\n",
      "1 missing years\n",
      "0 missing falls\n",
      "0 missing names\n",
      "0 missing name types\n",
      "28 missing masses\n"
     ]
    }
   ],
   "source": [
    "print(a, 'missing IDs')\n",
    "print(b, 'missing years')\n",
    "print(c, 'missing falls')\n",
    "print(d, 'missing names')\n",
    "print(e, 'missing name types')\n",
    "print(f, 'missing masses')"
   ]
  },
  {
   "cell_type": "code",
   "execution_count": 39,
   "metadata": {},
   "outputs": [
    {
     "name": "stdout",
     "output_type": "stream",
     "text": [
      "1000\n",
      "1000\n",
      "1000\n",
      "1000\n",
      "1000\n",
      "1000\n",
      "1000\n",
      "1000\n"
     ]
    }
   ],
   "source": [
    "print(len(ID))\n",
    "print(len(Year))\n",
    "print(len(Fall))\n",
    "print(len(Name))\n",
    "print(len(Name_Type))\n",
    "print(len(Mass))\n",
    "print(len(Latitude))\n",
    "print(len(Longitude))"
   ]
  },
  {
   "cell_type": "code",
   "execution_count": 43,
   "metadata": {},
   "outputs": [
    {
     "data": {
      "text/html": [
       "<div>\n",
       "<style scoped>\n",
       "    .dataframe tbody tr th:only-of-type {\n",
       "        vertical-align: middle;\n",
       "    }\n",
       "\n",
       "    .dataframe tbody tr th {\n",
       "        vertical-align: top;\n",
       "    }\n",
       "\n",
       "    .dataframe thead th {\n",
       "        text-align: right;\n",
       "    }\n",
       "</style>\n",
       "<table border=\"1\" class=\"dataframe\">\n",
       "  <thead>\n",
       "    <tr style=\"text-align: right;\">\n",
       "      <th></th>\n",
       "      <th>ID</th>\n",
       "      <th>Year</th>\n",
       "      <th>Fall</th>\n",
       "      <th>Name</th>\n",
       "      <th>Name Type</th>\n",
       "      <th>Mass</th>\n",
       "      <th>Latitude</th>\n",
       "      <th>Longitude</th>\n",
       "    </tr>\n",
       "  </thead>\n",
       "  <tbody>\n",
       "    <tr>\n",
       "      <th>0</th>\n",
       "      <td>1</td>\n",
       "      <td>1880-01-01T00:00:00.000</td>\n",
       "      <td>Fell</td>\n",
       "      <td>Aachen</td>\n",
       "      <td>Valid</td>\n",
       "      <td>21</td>\n",
       "      <td>6.08333</td>\n",
       "      <td>50.775</td>\n",
       "    </tr>\n",
       "    <tr>\n",
       "      <th>1</th>\n",
       "      <td>2</td>\n",
       "      <td>1951-01-01T00:00:00.000</td>\n",
       "      <td>Fell</td>\n",
       "      <td>Aarhus</td>\n",
       "      <td>Valid</td>\n",
       "      <td>720</td>\n",
       "      <td>10.23333</td>\n",
       "      <td>56.18333</td>\n",
       "    </tr>\n",
       "    <tr>\n",
       "      <th>2</th>\n",
       "      <td>6</td>\n",
       "      <td>1952-01-01T00:00:00.000</td>\n",
       "      <td>Fell</td>\n",
       "      <td>Abee</td>\n",
       "      <td>Valid</td>\n",
       "      <td>107000</td>\n",
       "      <td>-113.0</td>\n",
       "      <td>54.21667</td>\n",
       "    </tr>\n",
       "    <tr>\n",
       "      <th>3</th>\n",
       "      <td>10</td>\n",
       "      <td>1976-01-01T00:00:00.000</td>\n",
       "      <td>Fell</td>\n",
       "      <td>Acapulco</td>\n",
       "      <td>Valid</td>\n",
       "      <td>1914</td>\n",
       "      <td>-99.9</td>\n",
       "      <td>16.88333</td>\n",
       "    </tr>\n",
       "    <tr>\n",
       "      <th>4</th>\n",
       "      <td>370</td>\n",
       "      <td>1902-01-01T00:00:00.000</td>\n",
       "      <td>Fell</td>\n",
       "      <td>Achiras</td>\n",
       "      <td>Valid</td>\n",
       "      <td>780</td>\n",
       "      <td>-64.95</td>\n",
       "      <td>-33.16667</td>\n",
       "    </tr>\n",
       "  </tbody>\n",
       "</table>\n",
       "</div>"
      ],
      "text/plain": [
       "    ID                     Year  Fall      Name Name Type    Mass  Latitude  \\\n",
       "0    1  1880-01-01T00:00:00.000  Fell    Aachen     Valid      21   6.08333   \n",
       "1    2  1951-01-01T00:00:00.000  Fell    Aarhus     Valid     720  10.23333   \n",
       "2    6  1952-01-01T00:00:00.000  Fell      Abee     Valid  107000    -113.0   \n",
       "3   10  1976-01-01T00:00:00.000  Fell  Acapulco     Valid    1914     -99.9   \n",
       "4  370  1902-01-01T00:00:00.000  Fell   Achiras     Valid     780    -64.95   \n",
       "\n",
       "   Longitude  \n",
       "0     50.775  \n",
       "1   56.18333  \n",
       "2   54.21667  \n",
       "3   16.88333  \n",
       "4  -33.16667  "
      ]
     },
     "execution_count": 43,
     "metadata": {},
     "output_type": "execute_result"
    }
   ],
   "source": [
    "NASAlist = list(zip(ID, Year, Fall, Name, Name_Type, Mass, Longitude, Latitude))\n",
    "column_names = ['ID', 'Year', 'Fall', 'Name', 'Name Type', 'Mass', 'Latitude', 'Longitude']\n",
    "\n",
    "import pandas as pd\n",
    "df = pd. DataFrame(NASAlist, columns=column_names)\n",
    "df.head()"
   ]
  },
  {
   "cell_type": "code",
   "execution_count": null,
   "metadata": {},
   "outputs": [],
   "source": []
  }
 ],
 "metadata": {
  "kernelspec": {
   "display_name": "Python 3",
   "language": "python",
   "name": "python3"
  },
  "language_info": {
   "codemirror_mode": {
    "name": "ipython",
    "version": 3
   },
   "file_extension": ".py",
   "mimetype": "text/x-python",
   "name": "python",
   "nbconvert_exporter": "python",
   "pygments_lexer": "ipython3",
   "version": "3.7.3"
  }
 },
 "nbformat": 4,
 "nbformat_minor": 2
}
