{
 "cells": [
  {
   "cell_type": "markdown",
   "metadata": {},
   "source": [
    "### DC Housing Properties\n",
    "\n",
    "Use the D.C. Residential Properties dataset from Kaggle to re-scale the \"price\" column using both z-score standardization and Min-max scaling.\n",
    "\n",
    "**HINTS**: Replace or remove the missing values in the data.\n"
   ]
  },
  {
   "cell_type": "code",
   "execution_count": 2,
   "metadata": {},
   "outputs": [
    {
     "name": "stderr",
     "output_type": "stream",
     "text": [
      "C:\\ProgramData\\Anaconda3\\lib\\site-packages\\IPython\\core\\interactiveshell.py:3049: DtypeWarning: Columns (18,19,20,21,22,23,24,33,34,35,37,43,45) have mixed types. Specify dtype option on import or set low_memory=False.\n",
      "  interactivity=interactivity, compiler=compiler, result=result)\n"
     ]
    },
    {
     "data": {
      "text/html": [
       "<div>\n",
       "<style scoped>\n",
       "    .dataframe tbody tr th:only-of-type {\n",
       "        vertical-align: middle;\n",
       "    }\n",
       "\n",
       "    .dataframe tbody tr th {\n",
       "        vertical-align: top;\n",
       "    }\n",
       "\n",
       "    .dataframe thead th {\n",
       "        text-align: right;\n",
       "    }\n",
       "</style>\n",
       "<table border=\"1\" class=\"dataframe\">\n",
       "  <thead>\n",
       "    <tr style=\"text-align: right;\">\n",
       "      <th></th>\n",
       "      <th>Unnamed: 0</th>\n",
       "      <th>BATHRM</th>\n",
       "      <th>HF_BATHRM</th>\n",
       "      <th>HEAT</th>\n",
       "      <th>AC</th>\n",
       "      <th>NUM_UNITS</th>\n",
       "      <th>ROOMS</th>\n",
       "      <th>BEDRM</th>\n",
       "      <th>AYB</th>\n",
       "      <th>YR_RMDL</th>\n",
       "      <th>...</th>\n",
       "      <th>LONGITUDE</th>\n",
       "      <th>ASSESSMENT_NBHD</th>\n",
       "      <th>ASSESSMENT_SUBNBHD</th>\n",
       "      <th>CENSUS_TRACT</th>\n",
       "      <th>CENSUS_BLOCK</th>\n",
       "      <th>WARD</th>\n",
       "      <th>SQUARE</th>\n",
       "      <th>X</th>\n",
       "      <th>Y</th>\n",
       "      <th>QUADRANT</th>\n",
       "    </tr>\n",
       "  </thead>\n",
       "  <tbody>\n",
       "    <tr>\n",
       "      <th>0</th>\n",
       "      <td>0</td>\n",
       "      <td>4</td>\n",
       "      <td>0</td>\n",
       "      <td>Warm Cool</td>\n",
       "      <td>Y</td>\n",
       "      <td>2.0</td>\n",
       "      <td>8</td>\n",
       "      <td>4</td>\n",
       "      <td>1910.0</td>\n",
       "      <td>1988.0</td>\n",
       "      <td>...</td>\n",
       "      <td>-77.040832</td>\n",
       "      <td>Old City 2</td>\n",
       "      <td>040 D Old City 2</td>\n",
       "      <td>4201.0</td>\n",
       "      <td>004201 2006</td>\n",
       "      <td>Ward 2</td>\n",
       "      <td>152</td>\n",
       "      <td>-77.040429</td>\n",
       "      <td>38.914881</td>\n",
       "      <td>NW</td>\n",
       "    </tr>\n",
       "    <tr>\n",
       "      <th>1</th>\n",
       "      <td>1</td>\n",
       "      <td>3</td>\n",
       "      <td>1</td>\n",
       "      <td>Warm Cool</td>\n",
       "      <td>Y</td>\n",
       "      <td>2.0</td>\n",
       "      <td>11</td>\n",
       "      <td>5</td>\n",
       "      <td>1898.0</td>\n",
       "      <td>2007.0</td>\n",
       "      <td>...</td>\n",
       "      <td>-77.040764</td>\n",
       "      <td>Old City 2</td>\n",
       "      <td>040 D Old City 2</td>\n",
       "      <td>4201.0</td>\n",
       "      <td>004201 2006</td>\n",
       "      <td>Ward 2</td>\n",
       "      <td>152</td>\n",
       "      <td>-77.040429</td>\n",
       "      <td>38.914881</td>\n",
       "      <td>NW</td>\n",
       "    </tr>\n",
       "    <tr>\n",
       "      <th>2</th>\n",
       "      <td>2</td>\n",
       "      <td>3</td>\n",
       "      <td>1</td>\n",
       "      <td>Hot Water Rad</td>\n",
       "      <td>Y</td>\n",
       "      <td>2.0</td>\n",
       "      <td>9</td>\n",
       "      <td>5</td>\n",
       "      <td>1910.0</td>\n",
       "      <td>2009.0</td>\n",
       "      <td>...</td>\n",
       "      <td>-77.040678</td>\n",
       "      <td>Old City 2</td>\n",
       "      <td>040 D Old City 2</td>\n",
       "      <td>4201.0</td>\n",
       "      <td>004201 2006</td>\n",
       "      <td>Ward 2</td>\n",
       "      <td>152</td>\n",
       "      <td>-77.040429</td>\n",
       "      <td>38.914881</td>\n",
       "      <td>NW</td>\n",
       "    </tr>\n",
       "    <tr>\n",
       "      <th>3</th>\n",
       "      <td>3</td>\n",
       "      <td>3</td>\n",
       "      <td>1</td>\n",
       "      <td>Hot Water Rad</td>\n",
       "      <td>Y</td>\n",
       "      <td>2.0</td>\n",
       "      <td>8</td>\n",
       "      <td>5</td>\n",
       "      <td>1900.0</td>\n",
       "      <td>2003.0</td>\n",
       "      <td>...</td>\n",
       "      <td>-77.040629</td>\n",
       "      <td>Old City 2</td>\n",
       "      <td>040 D Old City 2</td>\n",
       "      <td>4201.0</td>\n",
       "      <td>004201 2006</td>\n",
       "      <td>Ward 2</td>\n",
       "      <td>152</td>\n",
       "      <td>-77.040429</td>\n",
       "      <td>38.914881</td>\n",
       "      <td>NW</td>\n",
       "    </tr>\n",
       "    <tr>\n",
       "      <th>4</th>\n",
       "      <td>4</td>\n",
       "      <td>2</td>\n",
       "      <td>1</td>\n",
       "      <td>Warm Cool</td>\n",
       "      <td>Y</td>\n",
       "      <td>1.0</td>\n",
       "      <td>11</td>\n",
       "      <td>3</td>\n",
       "      <td>1913.0</td>\n",
       "      <td>2012.0</td>\n",
       "      <td>...</td>\n",
       "      <td>-77.039361</td>\n",
       "      <td>Old City 2</td>\n",
       "      <td>040 D Old City 2</td>\n",
       "      <td>4201.0</td>\n",
       "      <td>004201 2006</td>\n",
       "      <td>Ward 2</td>\n",
       "      <td>152</td>\n",
       "      <td>-77.040429</td>\n",
       "      <td>38.914881</td>\n",
       "      <td>NW</td>\n",
       "    </tr>\n",
       "  </tbody>\n",
       "</table>\n",
       "<p>5 rows × 49 columns</p>\n",
       "</div>"
      ],
      "text/plain": [
       "   Unnamed: 0  BATHRM  HF_BATHRM           HEAT AC  NUM_UNITS  ROOMS  BEDRM  \\\n",
       "0           0       4          0      Warm Cool  Y        2.0      8      4   \n",
       "1           1       3          1      Warm Cool  Y        2.0     11      5   \n",
       "2           2       3          1  Hot Water Rad  Y        2.0      9      5   \n",
       "3           3       3          1  Hot Water Rad  Y        2.0      8      5   \n",
       "4           4       2          1      Warm Cool  Y        1.0     11      3   \n",
       "\n",
       "      AYB  YR_RMDL  ...  LONGITUDE  ASSESSMENT_NBHD ASSESSMENT_SUBNBHD  \\\n",
       "0  1910.0   1988.0  ... -77.040832       Old City 2   040 D Old City 2   \n",
       "1  1898.0   2007.0  ... -77.040764       Old City 2   040 D Old City 2   \n",
       "2  1910.0   2009.0  ... -77.040678       Old City 2   040 D Old City 2   \n",
       "3  1900.0   2003.0  ... -77.040629       Old City 2   040 D Old City 2   \n",
       "4  1913.0   2012.0  ... -77.039361       Old City 2   040 D Old City 2   \n",
       "\n",
       "   CENSUS_TRACT CENSUS_BLOCK    WARD  SQUARE          X          Y QUADRANT  \n",
       "0        4201.0  004201 2006  Ward 2     152 -77.040429  38.914881       NW  \n",
       "1        4201.0  004201 2006  Ward 2     152 -77.040429  38.914881       NW  \n",
       "2        4201.0  004201 2006  Ward 2     152 -77.040429  38.914881       NW  \n",
       "3        4201.0  004201 2006  Ward 2     152 -77.040429  38.914881       NW  \n",
       "4        4201.0  004201 2006  Ward 2     152 -77.040429  38.914881       NW  \n",
       "\n",
       "[5 rows x 49 columns]"
      ]
     },
     "execution_count": 2,
     "metadata": {},
     "output_type": "execute_result"
    }
   ],
   "source": [
    "import pandas as pd\n",
    "\n",
    "#preprocessing functions will be used to standardize/normalize data\n",
    "from sklearn import preprocessing\n",
    "from sklearn.preprocessing import StandardScaler\n",
    "from sklearn.preprocessing import MinMaxScaler\n",
    "\n",
    "%matplotlib inline\n",
    "\n",
    "filepath = 'datasets/DC_Properties.csv'\n",
    "df = pd.read_csv(filepath)"
   ]
  },
  {
   "cell_type": "code",
   "execution_count": 5,
   "metadata": {},
   "outputs": [
    {
     "data": {
      "text/plain": [
       "98216"
      ]
     },
     "execution_count": 5,
     "metadata": {},
     "output_type": "execute_result"
    }
   ],
   "source": [
    "df['PRICE'].count()"
   ]
  },
  {
   "cell_type": "code",
   "execution_count": 11,
   "metadata": {},
   "outputs": [
    {
     "data": {
      "text/plain": [
       "60741"
      ]
     },
     "execution_count": 11,
     "metadata": {},
     "output_type": "execute_result"
    }
   ],
   "source": [
    "df['PRICE'].isnull().sum()"
   ]
  },
  {
   "cell_type": "code",
   "execution_count": 21,
   "metadata": {},
   "outputs": [],
   "source": [
    "df.dropna(subset=['PRICE'], inplace=True)"
   ]
  },
  {
   "cell_type": "code",
   "execution_count": 25,
   "metadata": {},
   "outputs": [
    {
     "data": {
      "text/plain": [
       "0"
      ]
     },
     "execution_count": 25,
     "metadata": {},
     "output_type": "execute_result"
    }
   ],
   "source": [
    "df['PRICE'].isnull().sum()"
   ]
  },
  {
   "cell_type": "code",
   "execution_count": 26,
   "metadata": {},
   "outputs": [
    {
     "data": {
      "text/plain": [
       "<matplotlib.axes._subplots.AxesSubplot at 0x28fa9e2c710>"
      ]
     },
     "execution_count": 26,
     "metadata": {},
     "output_type": "execute_result"
    },
    {
     "data": {
      "image/png": "[encoded data removed]",
      "text/plain": [
       "<Figure size 432x288 with 1 Axes>"
      ]
     },
     "metadata": {
      "needs_background": "light"
     },
     "output_type": "display_data"
    }
   ],
   "source": [
    "df['PRICE'].hist()"
   ]
  },
  {
   "cell_type": "markdown",
   "metadata": {},
   "source": [
    "# Z-Score Standardization"
   ]
  },
  {
   "cell_type": "code",
   "execution_count": 24,
   "metadata": {},
   "outputs": [
    {
     "data": {
      "text/plain": [
       "0    0.023175\n",
       "1    0.165501\n",
       "2    0.094975\n",
       "3    0.144258\n",
       "4    0.016803\n",
       "dtype: float64"
      ]
     },
     "execution_count": 24,
     "metadata": {},
     "output_type": "execute_result"
    }
   ],
   "source": [
    "scaler = StandardScaler()\n",
    "price_zscore = scaler.fit_transform(df[['PRICE']])\n",
    "price_z_single = pd.Series(price_zscore.reshape(-1))\n",
    "price_z_single.head()"
   ]
  },
  {
   "cell_type": "code",
   "execution_count": 27,
   "metadata": {},
   "outputs": [
    {
     "data": {
      "text/plain": [
       "<matplotlib.axes._subplots.AxesSubplot at 0x28fa9fe46d8>"
      ]
     },
     "execution_count": 27,
     "metadata": {},
     "output_type": "execute_result"
    },
    {
     "data": {
      "image/png": "[encoded data removed]",
      "text/plain": [
       "<Figure size 432x288 with 1 Axes>"
      ]
     },
     "metadata": {
      "needs_background": "light"
     },
     "output_type": "display_data"
    }
   ],
   "source": [
    "price_z_single.hist()"
   ]
  },
  {
   "cell_type": "markdown",
   "metadata": {},
   "source": [
    "# MinMax Scaling"
   ]
  },
  {
   "cell_type": "code",
   "execution_count": 28,
   "metadata": {},
   "outputs": [
    {
     "data": {
      "text/plain": [
       "0    0.007968\n",
       "1    0.015281\n",
       "2    0.011657\n",
       "3    0.014189\n",
       "4    0.007640\n",
       "dtype: float64"
      ]
     },
     "execution_count": 28,
     "metadata": {},
     "output_type": "execute_result"
    }
   ],
   "source": [
    "minmax_sc = MinMaxScaler()\n",
    "price_minmax = minmax_sc.fit_transform(df[['PRICE']])\n",
    "mm_price = pd.Series(price_minmax.reshape(-1))\n",
    "mm_price.head()"
   ]
  },
  {
   "cell_type": "code",
   "execution_count": 29,
   "metadata": {},
   "outputs": [
    {
     "data": {
      "text/plain": [
       "<matplotlib.axes._subplots.AxesSubplot at 0x28fa9e94780>"
      ]
     },
     "execution_count": 29,
     "metadata": {},
     "output_type": "execute_result"
    },
    {
     "data": {
      "image/png": "[encoded data removed]",
      "text/plain": [
       "<Figure size 432x288 with 1 Axes>"
      ]
     },
     "metadata": {
      "needs_background": "light"
     },
     "output_type": "display_data"
    }
   ],
   "source": [
    "mm_price.hist()"
   ]
  }
 ],
 "metadata": {
  "kernelspec": {
   "display_name": "Python 3",
   "language": "python",
   "name": "python3"
  },
  "language_info": {
   "codemirror_mode": {
    "name": "ipython",
    "version": 3
   },
   "file_extension": ".py",
   "mimetype": "text/x-python",
   "name": "python",
   "nbconvert_exporter": "python",
   "pygments_lexer": "ipython3",
   "version": "3.7.3"
  }
 },
 "nbformat": 4,
 "nbformat_minor": 2
}
