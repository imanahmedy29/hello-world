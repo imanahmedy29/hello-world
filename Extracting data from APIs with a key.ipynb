{
 "cells": [
  {
   "cell_type": "markdown",
   "metadata": {},
   "source": [
    "### Breweries Data from BreweryDB API\n",
    "\n",
    "Using the Brewery DB API from the \"Get Data from API - with key\" lesson, extract the following data for the features of a brewery.\n",
    "\n",
    "- ID\n",
    "- Name\n",
    "- Year of Establishment\n",
    "- Status\n",
    "- Is it in business?\n",
    "- Is it mass owned?\n",
    "- Is it organic?\n",
    "- Website\n",
    "- Description\n",
    "\n",
    "***HINT***: The URL to access the brewery side of the API is https://sandbox-api.brewerydb.com/v2/breweries/?key=\n"
   ]
  },
  {
   "cell_type": "code",
   "execution_count": 19,
   "metadata": {},
   "outputs": [
    {
     "data": {
      "text/plain": [
       "<Response [200]>"
      ]
     },
     "execution_count": 19,
     "metadata": {},
     "output_type": "execute_result"
    }
   ],
   "source": [
    "import requests\n",
    "import json\n",
    "import pandas as pd\n",
    "\n",
    "with open('brewDB_key.txt', 'r') as file:\n",
    "    for line in file:\n",
    "        api_key = line\n",
    "        \n",
    "url = r'https://sandbox-api.brewerydb.com/v2/breweries/?key='\n",
    "response = requests.get(url+api_key)\n",
    "response"
   ]
  },
  {
   "cell_type": "code",
   "execution_count": 20,
   "metadata": {},
   "outputs": [
    {
     "data": {
      "text/plain": [
       "dict"
      ]
     },
     "execution_count": 20,
     "metadata": {},
     "output_type": "execute_result"
    }
   ],
   "source": [
    "beerdata = response.json()\n",
    "type(beerdata)"
   ]
  },
  {
   "cell_type": "code",
   "execution_count": 21,
   "metadata": {},
   "outputs": [
    {
     "data": {
      "text/plain": [
       "dict_keys(['currentPage', 'numberOfPages', 'totalResults', 'data', 'status'])"
      ]
     },
     "execution_count": 21,
     "metadata": {},
     "output_type": "execute_result"
    }
   ],
   "source": [
    "beerdata.keys()"
   ]
  },
  {
   "cell_type": "code",
   "execution_count": 23,
   "metadata": {},
   "outputs": [
    {
     "data": {
      "text/plain": [
       "list"
      ]
     },
     "execution_count": 23,
     "metadata": {},
     "output_type": "execute_result"
    }
   ],
   "source": [
    "type(beerdata['data'])"
   ]
  },
  {
   "cell_type": "code",
   "execution_count": 24,
   "metadata": {},
   "outputs": [
    {
     "data": {
      "text/plain": [
       "19"
      ]
     },
     "execution_count": 24,
     "metadata": {},
     "output_type": "execute_result"
    }
   ],
   "source": [
    "len(beerdata['data'])"
   ]
  },
  {
   "cell_type": "code",
   "execution_count": 25,
   "metadata": {},
   "outputs": [
    {
     "data": {
      "text/plain": [
       "{'id': 'HaPdSL',\n",
       " 'name': 'Guinness',\n",
       " 'nameShortDisplay': 'Guinness',\n",
       " 'description': \"St. James's Gate Brewery (Irish: Grúdlann Gheata Shan Séamuis) is a brewery founded in 1759 in Dublin, Ireland by Arthur Guinness. The company is now a part of Diageo, a company formed via the merger of Guinness  and Grand Metropolitan in 1997. The main product produced at the brewery is Guinness Draft.\\r\\n\\r\\nLeased for 9,000 years in 1759 by Arthur Guinness at £45 per year, St. James's Gate has been the home of Guinness ever since. It became the largest brewery in Ireland in 1838, and was the largest in the world in 1914, covering 64 acres. Although no longer the largest brewery in the world, it is still the largest brewer of stout in the world. During the 19th and early 20th centuries, the brewery owned most of the buildings in the surrounding area, including many streets of housing for brewery employees, and offices associated with the brewery. The brewery also made all of its own power using its own power plant.\\r\\n\\r\\nThere is an attached exhibition on the 250-year-old history of Guinness, called the Guinness Storehouse.\",\n",
       " 'website': 'http://www.guinness.com/',\n",
       " 'established': '1759',\n",
       " 'isOrganic': 'N',\n",
       " 'images': {'icon': 'https://brewerydb-images.s3.amazonaws.com/brewery/HaPdSL/upload_b3rzyZ-icon.png',\n",
       "  'medium': 'https://brewerydb-images.s3.amazonaws.com/brewery/HaPdSL/upload_b3rzyZ-medium.png',\n",
       "  'large': 'https://brewerydb-images.s3.amazonaws.com/brewery/HaPdSL/upload_b3rzyZ-large.png',\n",
       "  'squareMedium': 'https://brewerydb-images.s3.amazonaws.com/brewery/HaPdSL/upload_b3rzyZ-squareMedium.png',\n",
       "  'squareLarge': 'https://brewerydb-images.s3.amazonaws.com/brewery/HaPdSL/upload_b3rzyZ-squareLarge.png'},\n",
       " 'status': 'verified',\n",
       " 'statusDisplay': 'Verified',\n",
       " 'createDate': '2012-01-03 02:41:56',\n",
       " 'updateDate': '2018-11-02 02:15:01',\n",
       " 'isMassOwned': 'Y',\n",
       " 'isInBusiness': 'Y',\n",
       " 'isVerified': 'N'}"
      ]
     },
     "execution_count": 25,
     "metadata": {},
     "output_type": "execute_result"
    }
   ],
   "source": [
    "beerdata['data'][5]"
   ]
  },
  {
   "cell_type": "code",
   "execution_count": 41,
   "metadata": {},
   "outputs": [],
   "source": [
    "brewery = beerdata['data']"
   ]
  },
  {
   "cell_type": "code",
   "execution_count": 42,
   "metadata": {},
   "outputs": [
    {
     "data": {
      "text/plain": [
       "19"
      ]
     },
     "execution_count": 42,
     "metadata": {},
     "output_type": "execute_result"
    }
   ],
   "source": [
    "len(brewery)"
   ]
  },
  {
   "cell_type": "code",
   "execution_count": 43,
   "metadata": {},
   "outputs": [],
   "source": [
    "ID = []\n",
    "Name = []\n",
    "Year = []\n",
    "Status = []\n",
    "InBusiness = []\n",
    "MassOwned = []\n",
    "Organic = []\n",
    "Site = []\n",
    "Description = []\n",
    "\n",
    "for i in range(0,19):\n",
    "    breweries = brewery[i]\n",
    "    try: \n",
    "        ids = breweries['id']\n",
    "    except:\n",
    "        ids = None\n",
    "    \n",
    "    try: \n",
    "        names = breweries['name']\n",
    "    except:\n",
    "        names = None\n",
    "\n",
    "    try: \n",
    "        years = breweries['established']\n",
    "    except: \n",
    "        years = None\n",
    "        \n",
    "    try: \n",
    "        status = breweries['status']\n",
    "    except: \n",
    "        status = None\n",
    "        \n",
    "    try: \n",
    "        inbus = breweries['isInBusiness']\n",
    "    except: \n",
    "        inbus = None\n",
    "        \n",
    "    try: \n",
    "        mass = breweries['isMassOwned']\n",
    "    except: \n",
    "        mass = None\n",
    "    \n",
    "    try: \n",
    "        orgo = breweries['isOrganic']\n",
    "    except: \n",
    "        orgo = None\n",
    "    \n",
    "    try: \n",
    "        site = breweries['website']\n",
    "    except: \n",
    "        site = None\n",
    "    \n",
    "    try: \n",
    "        description = breweries['description']\n",
    "    except: \n",
    "        description = None\n",
    "        \n",
    "    ID.append(ids)\n",
    "    Name.append(names)\n",
    "    Year.append(years)\n",
    "    Status.append(status)\n",
    "    InBusiness.append(inbus)\n",
    "    MassOwned.append(mass)\n",
    "    Organic.append(orgo)\n",
    "    Site.append(site)\n",
    "    Description.append(description)"
   ]
  },
  {
   "cell_type": "code",
   "execution_count": 44,
   "metadata": {},
   "outputs": [
    {
     "name": "stdout",
     "output_type": "stream",
     "text": [
      "19\n",
      "19\n",
      "19\n",
      "19\n",
      "19\n",
      "19\n",
      "19\n",
      "19\n",
      "19\n"
     ]
    }
   ],
   "source": [
    "print(len(ID)) \n",
    "print(len(Name))\n",
    "print(len(Year)) \n",
    "print(len(Status))\n",
    "print(len(InBusiness)) \n",
    "print(len(MassOwned))\n",
    "print(len(Organic)) \n",
    "print(len(Site))\n",
    "print(len(Description)) \n"
   ]
  },
  {
   "cell_type": "code",
   "execution_count": 47,
   "metadata": {},
   "outputs": [
    {
     "name": "stdout",
     "output_type": "stream",
     "text": [
      "['BznahA', 'rd8LRZ']\n",
      "['Anheuser-Busch InBev', 'Boston Beer Company (Samuel Adams)']\n",
      "['1852', None]\n",
      "['verified', 'new_unverified']\n",
      "['Y', 'Y']\n",
      "['Y', 'N']\n",
      "['N', 'N']\n",
      "['http://www.anheuser-busch.com/', None]\n",
      "[\"Anheuser-Busch operates 12 breweries in the United States, 14 in China and one in the United Kingdom. Anheuser-Busch's operations and resources are focused on adding to life's enjoyment not only through the responsible consumption of beer by adults, but through theme park entertainment and packaging.  In the United States, the company holds a 48.5 percent share of U.S. beer sales. Worldwide, Anheuser-Busch's beer sales volume was 128.4 million barrels in 2007.  The St. Louis-based company's subsidiaries include one of the largest U.S. manufacturers of aluminum beverage containers and one of the world's largest recyclers of aluminum beverage cans. Anheuser-Busch also has interests in malt production, rice milling, real estate development, turf farming, metalized and paper label printing, bottle production and transportation services.\", None]\n"
     ]
    }
   ],
   "source": [
    "print(ID[:2]) \n",
    "print(Name[:2])\n",
    "print(Year[:2]) \n",
    "print(Status[:2])\n",
    "print(InBusiness[:2]) \n",
    "print(MassOwned[:2])\n",
    "print(Organic[:2]) \n",
    "print(Site[:2])\n",
    "print(Description[:2]) "
   ]
  },
  {
   "cell_type": "code",
   "execution_count": 46,
   "metadata": {},
   "outputs": [
    {
     "data": {
      "text/html": [
       "<div>\n",
       "<style scoped>\n",
       "    .dataframe tbody tr th:only-of-type {\n",
       "        vertical-align: middle;\n",
       "    }\n",
       "\n",
       "    .dataframe tbody tr th {\n",
       "        vertical-align: top;\n",
       "    }\n",
       "\n",
       "    .dataframe thead th {\n",
       "        text-align: right;\n",
       "    }\n",
       "</style>\n",
       "<table border=\"1\" class=\"dataframe\">\n",
       "  <thead>\n",
       "    <tr style=\"text-align: right;\">\n",
       "      <th></th>\n",
       "      <th>ID</th>\n",
       "      <th>Name</th>\n",
       "      <th>Year of Establishment</th>\n",
       "      <th>Status</th>\n",
       "      <th>Is it in business?</th>\n",
       "      <th>Is it mass owned?</th>\n",
       "      <th>Is it organic?</th>\n",
       "      <th>Website</th>\n",
       "      <th>Description</th>\n",
       "    </tr>\n",
       "  </thead>\n",
       "  <tbody>\n",
       "    <tr>\n",
       "      <th>0</th>\n",
       "      <td>BznahA</td>\n",
       "      <td>Anheuser-Busch InBev</td>\n",
       "      <td>1852</td>\n",
       "      <td>verified</td>\n",
       "      <td>Y</td>\n",
       "      <td>Y</td>\n",
       "      <td>N</td>\n",
       "      <td>http://www.anheuser-busch.com/</td>\n",
       "      <td>Anheuser-Busch operates 12 breweries in the Un...</td>\n",
       "    </tr>\n",
       "    <tr>\n",
       "      <th>1</th>\n",
       "      <td>rd8LRZ</td>\n",
       "      <td>Boston Beer Company (Samuel Adams)</td>\n",
       "      <td>None</td>\n",
       "      <td>new_unverified</td>\n",
       "      <td>Y</td>\n",
       "      <td>N</td>\n",
       "      <td>N</td>\n",
       "      <td>None</td>\n",
       "      <td>None</td>\n",
       "    </tr>\n",
       "    <tr>\n",
       "      <th>2</th>\n",
       "      <td>IImUD9</td>\n",
       "      <td>Breckenridge Brewery</td>\n",
       "      <td>1990</td>\n",
       "      <td>verified</td>\n",
       "      <td>Y</td>\n",
       "      <td>Y</td>\n",
       "      <td>N</td>\n",
       "      <td>http://www.breckbrew.com/</td>\n",
       "      <td>Breckenridge Brewery was founded in 1990 in Br...</td>\n",
       "    </tr>\n",
       "    <tr>\n",
       "      <th>3</th>\n",
       "      <td>uM2jeT</td>\n",
       "      <td>Brouwerij De Leite</td>\n",
       "      <td>2008</td>\n",
       "      <td>verified</td>\n",
       "      <td>Y</td>\n",
       "      <td>N</td>\n",
       "      <td>N</td>\n",
       "      <td>http://www.deleite.be/</td>\n",
       "      <td>Brewing since 1997.  Officially transformed in...</td>\n",
       "    </tr>\n",
       "    <tr>\n",
       "      <th>4</th>\n",
       "      <td>p3YrOa</td>\n",
       "      <td>Dock Street Brewery</td>\n",
       "      <td>1985</td>\n",
       "      <td>verified</td>\n",
       "      <td>Y</td>\n",
       "      <td>N</td>\n",
       "      <td>N</td>\n",
       "      <td>http://www.dockstreetbeer.com</td>\n",
       "      <td>Founded in 1985, Dock Street Brewing Co. was t...</td>\n",
       "    </tr>\n",
       "  </tbody>\n",
       "</table>\n",
       "</div>"
      ],
      "text/plain": [
       "       ID                                Name Year of Establishment  \\\n",
       "0  BznahA                Anheuser-Busch InBev                  1852   \n",
       "1  rd8LRZ  Boston Beer Company (Samuel Adams)                  None   \n",
       "2  IImUD9                Breckenridge Brewery                  1990   \n",
       "3  uM2jeT                  Brouwerij De Leite                  2008   \n",
       "4  p3YrOa                 Dock Street Brewery                  1985   \n",
       "\n",
       "           Status Is it in business? Is it mass owned? Is it organic?  \\\n",
       "0        verified                  Y                 Y              N   \n",
       "1  new_unverified                  Y                 N              N   \n",
       "2        verified                  Y                 Y              N   \n",
       "3        verified                  Y                 N              N   \n",
       "4        verified                  Y                 N              N   \n",
       "\n",
       "                          Website  \\\n",
       "0  http://www.anheuser-busch.com/   \n",
       "1                            None   \n",
       "2       http://www.breckbrew.com/   \n",
       "3          http://www.deleite.be/   \n",
       "4   http://www.dockstreetbeer.com   \n",
       "\n",
       "                                         Description  \n",
       "0  Anheuser-Busch operates 12 breweries in the Un...  \n",
       "1                                               None  \n",
       "2  Breckenridge Brewery was founded in 1990 in Br...  \n",
       "3  Brewing since 1997.  Officially transformed in...  \n",
       "4  Founded in 1985, Dock Street Brewing Co. was t...  "
      ]
     },
     "execution_count": 46,
     "metadata": {},
     "output_type": "execute_result"
    }
   ],
   "source": [
    "Brewery_List = list(zip(ID, Name, Year, Status, InBusiness, MassOwned, Organic, Site, Description))\n",
    "\n",
    "columnames = ['ID', 'Name', 'Year of Establishment', 'Status', 'Is it in business?', 'Is it mass owned?', 'Is it organic?', 'Website', 'Description' ]\n",
    "\n",
    "df = pd.DataFrame(Brewery_List, columns=columnames)\n",
    "\n",
    "df.head(5)"
   ]
  },
  {
   "cell_type": "code",
   "execution_count": null,
   "metadata": {},
   "outputs": [],
   "source": []
  }
 ],
 "metadata": {
  "kernelspec": {
   "display_name": "Python 3",
   "language": "python",
   "name": "python3"
  },
  "language_info": {
   "codemirror_mode": {
    "name": "ipython",
    "version": 3
   },
   "file_extension": ".py",
   "mimetype": "text/x-python",
   "name": "python",
   "nbconvert_exporter": "python",
   "pygments_lexer": "ipython3",
   "version": "3.7.3"
  }
 },
 "nbformat": 4,
 "nbformat_minor": 2
}
